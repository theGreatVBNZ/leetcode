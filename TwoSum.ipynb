{
 "cells": [
  {
   "cell_type": "markdown",
   "metadata": {},
   "source": [
    "https://leetcode.com/problems/two-sum/description/"
   ]
  },
  {
   "cell_type": "code",
   "execution_count": 1,
   "metadata": {},
   "outputs": [],
   "source": [
    "nums = [2, 7, 11, 15]\n",
    "target = 9"
   ]
  },
  {
   "cell_type": "markdown",
   "metadata": {},
   "source": [
    "$Time: O(n^2)$ <br>\n",
    "$Space: O(1)$"
   ]
  },
  {
   "cell_type": "code",
   "execution_count": 2,
   "metadata": {},
   "outputs": [],
   "source": [
    "class Solution:\n",
    "    def twoSum(self, nums, target):\n",
    "        \"\"\"\n",
    "        :type nums: List[int]\n",
    "        :type target: int\n",
    "        :rtype: List[int]\n",
    "        \"\"\"\n",
    "        for i, val1 in enumerate(nums):\n",
    "            for j, val2 in enumerate(nums):\n",
    "                if j <= i:\n",
    "                    continue\n",
    "                if val1 + val2 == target:\n",
    "                    return [i, j]"
   ]
  },
  {
   "cell_type": "markdown",
   "metadata": {},
   "source": [
    "$Time: O(n)$ <br>\n",
    "$Space: O(n)$\n",
    "\n",
    "Идея: `val1 + val2 == target` то же самое, что и `val1 == target - val2`. Далее можно обойти список 2 раза, что эквивалентно $Time: O(n)$:\n",
    "\n",
    "- Вычислить `target - val2`, использовать в качестве ключа, а индекс `val2` в качестве значения\n",
    "- Если `val1 == target - val2`, то взять индекс `val2` из словаря"
   ]
  },
  {
   "cell_type": "code",
   "execution_count": 18,
   "metadata": {},
   "outputs": [
    {
     "name": "stdout",
     "output_type": "stream",
     "text": [
      "[1, 2]\n",
      "[1, 2]\n"
     ]
    }
   ],
   "source": [
    "nums = [3,2,4]\n",
    "target = 6\n",
    "\n",
    "diff = dict()\n",
    "for i, v in enumerate(nums):\n",
    "    difference = target - v\n",
    "    diff[difference] = i\n",
    "\n",
    "for i, v in enumerate(nums):\n",
    "    if v in diff:\n",
    "        j = diff[v]\n",
    "        if i != j:\n",
    "            print([min(i, j), max(i, j)])"
   ]
  },
  {
   "cell_type": "code",
   "execution_count": 19,
   "metadata": {},
   "outputs": [],
   "source": [
    "class Solution:\n",
    "    def twoSum(self, nums, target):\n",
    "        \"\"\"\n",
    "        :type nums: List[int]\n",
    "        :type target: int\n",
    "        :rtype: List[int]\n",
    "        \"\"\"\n",
    "        diff = dict()\n",
    "        for i, v in enumerate(nums):\n",
    "            difference = target - v\n",
    "            diff[difference] = i\n",
    "\n",
    "        for i, v in enumerate(nums):\n",
    "            if v in diff:\n",
    "                j = diff[v]\n",
    "                if i != j:\n",
    "                    return [min(i, j), max(i, j)]"
   ]
  },
  {
   "cell_type": "code",
   "execution_count": null,
   "metadata": {},
   "outputs": [],
   "source": []
  }
 ],
 "metadata": {
  "kernelspec": {
   "display_name": "Python 3",
   "language": "python",
   "name": "python3"
  },
  "language_info": {
   "codemirror_mode": {
    "name": "ipython",
    "version": 3
   },
   "file_extension": ".py",
   "mimetype": "text/x-python",
   "name": "python",
   "nbconvert_exporter": "python",
   "pygments_lexer": "ipython3",
   "version": "3.6.3"
  }
 },
 "nbformat": 4,
 "nbformat_minor": 2
}
