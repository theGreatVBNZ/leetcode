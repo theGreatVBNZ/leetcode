{
 "cells": [
  {
   "cell_type": "markdown",
   "metadata": {},
   "source": [
    "https://leetcode.com/problems/longest-substring-without-repeating-characters/description/"
   ]
  },
  {
   "cell_type": "code",
   "execution_count": 71,
   "metadata": {},
   "outputs": [],
   "source": [
    "import time\n",
    "\n",
    "import numpy as np\n",
    "import matplotlib.pyplot as plt"
   ]
  },
  {
   "cell_type": "code",
   "execution_count": 43,
   "metadata": {},
   "outputs": [],
   "source": [
    "all_chars = list('abcdefghijklmnopqrstuvwxyz')"
   ]
  },
  {
   "cell_type": "code",
   "execution_count": 54,
   "metadata": {},
   "outputs": [],
   "source": [
    "def gen_str(length):\n",
    "    return ''.join(np.random.choice(all_chars, length))"
   ]
  },
  {
   "cell_type": "markdown",
   "metadata": {},
   "source": [
    "#### Naive Solution\n",
    "$Time: O(n^3)$ <br>\n",
    "$Space: O(n)$"
   ]
  },
  {
   "cell_type": "code",
   "execution_count": 63,
   "metadata": {},
   "outputs": [],
   "source": [
    "def solution1(string):\n",
    "    start = time.time()\n",
    "    max_substring = ''\n",
    "    for i, ci in enumerate(string):\n",
    "        buffer = ci\n",
    "        for j, cj in enumerate(string[i + 1:]):\n",
    "            j += i + 1\n",
    "            if cj in buffer:\n",
    "                break\n",
    "            else:\n",
    "                buffer += cj\n",
    "        if len(buffer) > len(max_substring):\n",
    "            max_substring = buffer\n",
    "    return max_substring, time.time() - start"
   ]
  },
  {
   "cell_type": "code",
   "execution_count": 110,
   "metadata": {},
   "outputs": [
    {
     "name": "stdout",
     "output_type": "stream",
     "text": [
      "('abc', 1.71661376953125e-05)\n",
      "('b', 7.867813110351562e-06)\n",
      "('wke', 1.0967254638671875e-05)\n"
     ]
    }
   ],
   "source": [
    "string0 = 'abcabcbb'\n",
    "string1 = 'bbbbb'\n",
    "string2 = 'pwwkew'\n",
    "for string in ('abcabcbb', 'bbbbb', 'pwwkew'):\n",
    "    print(solution1(string))"
   ]
  },
  {
   "cell_type": "markdown",
   "metadata": {},
   "source": [
    "#### Sliding window\n",
    "$Time: O(n)$ <br>\n",
    "$Space: O(n)$\n",
    "\n",
    "Скользим окном некоторой ширины, если ширину можно увеличивать - увеличиваем и скользим дальше"
   ]
  },
  {
   "cell_type": "code",
   "execution_count": 126,
   "metadata": {},
   "outputs": [],
   "source": [
    "def solution2(string):\n",
    "    start = time.time()\n",
    "    max_substring = string[0]\n",
    "    i, j = 0, 1\n",
    "    n = len(string)\n",
    "    while i < n and j < n:\n",
    "        window = string[i:j]\n",
    "        chars = set(window)\n",
    "        if len(window) > len(chars):\n",
    "            i += 1\n",
    "            j += 1\n",
    "        else:\n",
    "            j += 1\n",
    "            if len(max_substring) < len(window):\n",
    "                max_substring = window\n",
    "    return max_substring, time.time() - start\n"
   ]
  },
  {
   "cell_type": "code",
   "execution_count": 121,
   "metadata": {},
   "outputs": [
    {
     "data": {
      "image/png": "[encoded data removed]",
      "text/plain": [
       "<matplotlib.figure.Figure at 0x10fc5f438>"
      ]
     },
     "metadata": {},
     "output_type": "display_data"
    }
   ],
   "source": [
    "lengths = (100000, 200000, 300000, 400000, 500000, 600000, 700000)\n",
    "times1 = [solution1(gen_str(length))[1] for length in lengths]\n",
    "times2 = [solution2(gen_str(length))[1] for length in lengths]\n",
    "plt.plot(lengths, times1)\n",
    "plt.plot(lengths, times2)\n",
    "plt.legend(['Solution1', 'Solution2'])\n",
    "plt.show()"
   ]
  },
  {
   "cell_type": "code",
   "execution_count": 127,
   "metadata": {},
   "outputs": [
    {
     "data": {
      "text/plain": [
       "('c', 1.1920928955078125e-06)"
      ]
     },
     "execution_count": 127,
     "metadata": {},
     "output_type": "execute_result"
    }
   ],
   "source": [
    "solution2('c')"
   ]
  },
  {
   "cell_type": "code",
   "execution_count": 125,
   "metadata": {},
   "outputs": [
    {
     "data": {
      "text/plain": [
       "['c']"
      ]
     },
     "execution_count": 125,
     "metadata": {},
     "output_type": "execute_result"
    }
   ],
   "source": [
    "['c'][0:1]"
   ]
  },
  {
   "cell_type": "code",
   "execution_count": null,
   "metadata": {},
   "outputs": [],
   "source": []
  }
 ],
 "metadata": {
  "kernelspec": {
   "display_name": "Python 3",
   "language": "python",
   "name": "python3"
  },
  "language_info": {
   "codemirror_mode": {
    "name": "ipython",
    "version": 3
   },
   "file_extension": ".py",
   "mimetype": "text/x-python",
   "name": "python",
   "nbconvert_exporter": "python",
   "pygments_lexer": "ipython3",
   "version": "3.6.3"
  }
 },
 "nbformat": 4,
 "nbformat_minor": 2
}
